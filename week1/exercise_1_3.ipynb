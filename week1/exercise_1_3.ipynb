{
 "cells": [
  {
   "cell_type": "markdown",
   "metadata": {},
   "source": [
    "# Exercise 1.3\n",
    "\n",
    "Using the Iris flower dataset, do the following:\n",
    "\n",
    "- Try developing a linear regression model for binary classification using the step transfer function using the data produced from Iris binary classification case. Use 60 percent of data picked randomly for training and the remaining for testing. \n",
    "\n",
    "- Try the approach with all 4 input features, i) without normalising input data, ii) with normalising input data. Report percentage correctly classified in training and test set after fixed number of training time (iterations) using gradient descent.\n",
    "\n",
    "- Carry out 30 experiments for both cases with different initial random seeds. Report mean and standard deviation using the appropriate metrics (accuracy, RMSE or AUC) for your results. \n",
    "\n",
    "> Step function is given as: f(x) = 1, x>=0 = 0, x<0    where, x is the output of the linear model."
   ]
  },
  {
   "cell_type": "code",
   "execution_count": 7,
   "metadata": {},
   "outputs": [],
   "source": [
    "# Lets start by importing our binary iris dataset, we already created this in the exercise 1.1 notebook\n",
    "import pandas as pd\n",
    "\n",
    "df = pd.read_parquet('./data/iris_binary.parquet')\n",
    "df_X = df.drop(columns=['Y'])\n",
    "df_y = df['Y']"
   ]
  },
  {
   "cell_type": "code",
   "execution_count": 29,
   "metadata": {},
   "outputs": [
    {
     "name": "stdout",
     "output_type": "stream",
     "text": [
      "Training r2 score: 0.959983030122823, Training RMSE: 0.009959779169430716\n",
      "Testing r2 score: 0.9593770854346204, Testing RMSE: 0.010054171354931436\n"
     ]
    }
   ],
   "source": [
    "# First lets create a linear regression model\n",
    "from sklearn.model_selection import train_test_split\n",
    "from sklearn.linear_model import LinearRegression\n",
    "from sklearn.metrics import r2_score, mean_squared_error\n",
    "\n",
    "# Create our train and test sets\n",
    "train_X, test_X, train_y, test_y = train_test_split(df_X, df_y, test_size=0.4, random_state=1)\n",
    "\n",
    "# Fit our linear regression model\n",
    "model = LinearRegression().fit(train_X, train_y)\n",
    "\n",
    "# Make predictions for both our train and test sets\n",
    "train_y_pred = model.predict(train_X)\n",
    "test_y_pred = model.predict(test_X)\n",
    "\n",
    "# Evaluate our linear regression model\n",
    "print(f'Training r2 score: {r2_score(train_y, train_y_pred)}, Training RMSE: {mean_squared_error(train_y, train_y_pred)}')\n",
    "print(f'Testing r2 score: {r2_score(test_y, test_y_pred)}, Testing RMSE: {mean_squared_error(test_y, test_y_pred)}')"
   ]
  },
  {
   "cell_type": "code",
   "execution_count": 37,
   "metadata": {},
   "outputs": [
    {
     "name": "stdout",
     "output_type": "stream",
     "text": [
      "Training accuracy: 0.65\n",
      "Testing accuracy: 0.8\n"
     ]
    }
   ],
   "source": [
    "\"\"\"\n",
    "Now we want to use this linear regression model for binary classification\n",
    "\n",
    "> Step function is given as: f(x) = 1, x>=0 = 0, x<0 where, x is the output of the linear model.\n",
    "\"\"\"\n",
    "from sklearn.metrics import accuracy_score\n",
    "\n",
    "def step_function(x: float) -> int:\n",
    "  \"\"\"\n",
    "  Returns 1 if x >= 0, else 0\n",
    "  \"\"\"\n",
    "  if x >= 0:\n",
    "    return 1\n",
    "  else:\n",
    "    return 0\n",
    "\n",
    "\n",
    "# Now lets process all of our predictions into what class we think they belong to\n",
    "binary_train_y_pred = [step_function(x) for x in train_y_pred]\n",
    "binary_test_y_pred = [step_function(x) for x in test_y_pred]\n",
    "\n",
    "# Now calculate our metrics\n",
    "print(f'Training accuracy: {accuracy_score(train_y, binary_train_y_pred)}')\n",
    "print(f'Testing accuracy: {accuracy_score(test_y, binary_test_y_pred)}')"
   ]
  }
 ],
 "metadata": {
  "kernelspec": {
   "display_name": "venv",
   "language": "python",
   "name": "python3"
  },
  "language_info": {
   "codemirror_mode": {
    "name": "ipython",
    "version": 3
   },
   "file_extension": ".py",
   "mimetype": "text/x-python",
   "name": "python",
   "nbconvert_exporter": "python",
   "pygments_lexer": "ipython3",
   "version": "3.10.12"
  }
 },
 "nbformat": 4,
 "nbformat_minor": 2
}
